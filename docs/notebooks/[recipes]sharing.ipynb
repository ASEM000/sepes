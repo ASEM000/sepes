{
 "cells": [
  {
   "cell_type": "markdown",
   "metadata": {},
   "source": [
    "# 🪡 Sharing/Tie Weights\n",
    "\n",
    "Because sharing weights convert a pytree to a graph by pointing one leaf to another, a careful handling is needed to avoid breaking the _tree_ assumptions.\n",
    "\n",
    "In `sepes`, sharing/tie weights is done inside methods, this means, instead sharing the reference within `__init__` method, the reference is shared within the method of which the call is made.\n",
    "\n",
    "**From**\n",
    "\n",
    "```python\n",
    "class TiedAutoEncoder:\n",
    "    def __init__(self, input_dim, hidden_dim):\n",
    "        self.encoder = Linear(input_dim, hidden_dim)\n",
    "        self.decoder = Linear(hidden_dim, input_dim)\n",
    "        self.decoder.weight = self.encoder.weight\n",
    "\n",
    "    def __call__(self, x):\n",
    "        return self.decoder(self.encoder(x))\n",
    "```\n",
    "\n",
    "**To** \n",
    "\n",
    "```python\n",
    "class TiedAutoEncoder:\n",
    "    def __init__(self, input_dim, hidden_dim):\n",
    "        self.encoder = Linear(input_dim, hidden_dim)\n",
    "        self.decoder = Linear(hidden_dim, input_dim)\n",
    "        \n",
    "    def __call__(self, x):\n",
    "        self.decoder.weight = self.encoder.weight.T\n",
    "        return self.decoder(self.encoder(x))\n",
    "```"
   ]
  },
  {
   "cell_type": "code",
   "execution_count": 1,
   "metadata": {},
   "outputs": [],
   "source": [
    "!pip install sepes"
   ]
  },
  {
   "cell_type": "markdown",
   "metadata": {},
   "source": [
    "In this example a simple `AutoEncoder` with shared `weight` between the encode/decoder is demonstrated."
   ]
  },
  {
   "cell_type": "code",
   "execution_count": 2,
   "metadata": {},
   "outputs": [],
   "source": [
    "import sepes as sp\n",
    "import jax\n",
    "import jax.numpy as jnp\n",
    "import jax.random as jr\n",
    "import functools as ft\n",
    "\n",
    "\n",
    "def sharing(method):\n",
    "    # sharing simply copies the instance, executes the method, and returns the output\n",
    "    # **without modifying the original instance.**\n",
    "    @ft.wraps(method)\n",
    "    def wrapper(self, *args, **kwargs):\n",
    "        # `value_and_tree` executes any mutating method in a functional way\n",
    "        # by copying `self`, executing the method, and returning the new state\n",
    "        # along with the output.\n",
    "        output, _ = sp.value_and_tree(method)(self, *args, **kwargs)\n",
    "        return output\n",
    "\n",
    "    return wrapper\n",
    "\n",
    "\n",
    "class Linear(sp.TreeClass):\n",
    "    def __init__(self, in_features: int, out_features: int, key: jax.Array):\n",
    "        self.weight = jr.normal(key=key, shape=(out_features, in_features))\n",
    "        self.bias = jnp.zeros((out_features,))\n",
    "\n",
    "    def __call__(self, input):\n",
    "        return input @ self.weight.T + self.bias\n",
    "\n",
    "\n",
    "class AutoEncoder(sp.TreeClass):\n",
    "    def __init__(self, *, key: jax.Array):\n",
    "        k1, k2, k3, k4 = jr.split(key, 4)\n",
    "        self.enc1 = Linear(1, 10, key=k1)\n",
    "        self.enc2 = Linear(10, 20, key=k2)\n",
    "        self.dec2 = Linear(20, 10, key=k3)\n",
    "        self.dec1 = Linear(10, 1, key=k4)\n",
    "\n",
    "    @sharing\n",
    "    def tied_call(self, input: jax.Array) -> jax.Array:\n",
    "        self.dec1.weight = self.enc1.weight.T\n",
    "        self.dec2.weight = self.enc2.weight.T\n",
    "        output = self.enc1(input)\n",
    "        output = self.enc2(output)\n",
    "        output = self.dec2(output)\n",
    "        output = self.dec1(output)\n",
    "        return output\n",
    "\n",
    "    def non_tied_call(self, x):\n",
    "        output = self.enc1(x)\n",
    "        output = self.enc2(output)\n",
    "        output = self.dec2(output)\n",
    "        output = self.dec1(output)\n",
    "        return output"
   ]
  },
  {
   "cell_type": "code",
   "execution_count": 3,
   "metadata": {},
   "outputs": [
    {
     "name": "stdout",
     "output_type": "stream",
     "text": [
      "Linear(\n",
      "  weight=f32[1,10](μ=0.00, σ=0.00, ∈[0.00,0.00]), \n",
      "  bias=f32[1](μ=622.29, σ=0.00, ∈[622.29,622.29])\n",
      ") Linear(\n",
      "  weight=f32[10,20](μ=0.00, σ=0.00, ∈[0.00,0.00]), \n",
      "  bias=f32[10](μ=-107.37, σ=706.50, ∈[-1561.75,949.41])\n",
      ")\n"
     ]
    }
   ],
   "source": [
    "@jax.jit\n",
    "@jax.grad\n",
    "def tied_loss_func(net, x, y):\n",
    "    net = sp.tree_unmask(net)\n",
    "    return jnp.mean((jax.vmap(net.tied_call)(x) - y) ** 2)\n",
    "\n",
    "\n",
    "tree = sp.tree_mask(AutoEncoder(key=jr.PRNGKey(0)))\n",
    "x = jnp.ones([10, 1]) + 0.0\n",
    "y = jnp.ones([10, 1]) * 2.0\n",
    "grads: AutoEncoder = tied_loss_func(tree, x, y)\n",
    "# note that the shared weights have 0 gradient\n",
    "print(repr(grads.dec1), repr(grads.dec2))"
   ]
  },
  {
   "cell_type": "code",
   "execution_count": 4,
   "metadata": {},
   "outputs": [
    {
     "name": "stdout",
     "output_type": "stream",
     "text": [
      "Linear(\n",
      "  weight=f32[1,10](μ=0.00, σ=0.00, ∈[0.00,0.00]), \n",
      "  bias=f32[1](μ=622.29, σ=0.00, ∈[622.29,622.29])\n",
      ") Linear(\n",
      "  weight=f32[10,20](μ=0.00, σ=0.00, ∈[0.00,0.00]), \n",
      "  bias=f32[10](μ=-107.37, σ=706.50, ∈[-1561.75,949.41])\n",
      ")\n"
     ]
    }
   ],
   "source": [
    "# check for non-tied call\n",
    "@jax.jit\n",
    "@jax.grad\n",
    "def non_tied_loss_func(net, x, y):\n",
    "    net = sp.tree_unmask(net)\n",
    "    return jnp.mean((jax.vmap(net.non_tied_call)(x) - y) ** 2)\n",
    "\n",
    "\n",
    "tree = sp.tree_mask(tree)\n",
    "x = jnp.ones([10, 1]) + 0.0\n",
    "y = jnp.ones([10, 1]) * 2.0\n",
    "grads: AutoEncoder = tied_loss_func(tree, x, y)\n",
    "\n",
    "# note that the shared weights have non-zero gradients\n",
    "print(repr(grads.dec1), repr(grads.dec2))"
   ]
  }
 ],
 "metadata": {
  "kernelspec": {
   "display_name": "dev-jax",
   "language": "python",
   "name": "python3"
  },
  "language_info": {
   "codemirror_mode": {
    "name": "ipython",
    "version": 3
   },
   "file_extension": ".py",
   "mimetype": "text/x-python",
   "name": "python",
   "nbconvert_exporter": "python",
   "pygments_lexer": "ipython3",
   "version": "3.12.2"
  }
 },
 "nbformat": 4,
 "nbformat_minor": 2
}
