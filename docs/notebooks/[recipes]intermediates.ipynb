{
 "cells": [
  {
   "cell_type": "markdown",
   "metadata": {},
   "source": [
    "# 🔧 Intermediates handling\n",
    "\n",
    "This notebook demonstrates how to capture the intermediate outputs of a model during inference. This is useful for debugging, understanding the model, and visualizing the model's internal representations."
   ]
  },
  {
   "cell_type": "code",
   "execution_count": null,
   "metadata": {},
   "outputs": [],
   "source": [
    "!pip install sepes"
   ]
  },
  {
   "cell_type": "markdown",
   "metadata": {},
   "source": [
    "### Capture intermediate values. \n",
    "\n",
    "In this example, we will capture the intermediate values in a method by simply returning them as part of the output."
   ]
  },
  {
   "cell_type": "code",
   "execution_count": null,
   "metadata": {},
   "outputs": [
    {
     "data": {
      "text/plain": [
       "{'b': 2.0, 'c': 4.0}"
      ]
     },
     "metadata": {},
     "output_type": "display_data"
    }
   ],
   "source": [
    "import sepes as sp\n",
    "\n",
    "\n",
    "class Foo(sp.TreeClass):\n",
    "    def __init__(self):\n",
    "        self.a = 1.0\n",
    "\n",
    "    def __call__(self, x):\n",
    "        capture = {}\n",
    "        b = self.a + x\n",
    "        capture[\"b\"] = b\n",
    "        c = 2 * b\n",
    "        capture[\"c\"] = c\n",
    "        e = 4 * c\n",
    "        return e, capture\n",
    "\n",
    "\n",
    "foo = Foo()\n",
    "\n",
    "_, inter_values = foo(1.0)\n",
    "inter_values"
   ]
  },
  {
   "cell_type": "markdown",
   "metadata": {},
   "source": [
    "### Capture intermediate gradients\n",
    "\n",
    "In this example, we will capture the intermediate gradients in a method by 1) perturbing the desired value and 2) using `argnum` in `jax.grad` to compute the intermediate gradients."
   ]
  },
  {
   "cell_type": "code",
   "execution_count": null,
   "metadata": {},
   "outputs": [
    {
     "data": {
      "text/plain": [
       "{'b': Array(8., dtype=float32, weak_type=True),\n",
       " 'c': Array(4., dtype=float32, weak_type=True)}"
      ]
     },
     "metadata": {},
     "output_type": "display_data"
    }
   ],
   "source": [
    "import sepes as sp\n",
    "import jax\n",
    "\n",
    "\n",
    "class Foo(sp.TreeClass):\n",
    "    def __init__(self):\n",
    "        self.a = 1.0\n",
    "\n",
    "    def __call__(self, x, perturb):\n",
    "        # pass in the perturbations as a pytree\n",
    "        b = self.a + x + perturb[\"b\"]\n",
    "        c = 2 * b + perturb[\"c\"]\n",
    "        e = 4 * c\n",
    "        return e\n",
    "\n",
    "\n",
    "foo = Foo()\n",
    "\n",
    "# de/dc = 4\n",
    "# de/db = de/dc * dc/db = 4 * 2 = 8\n",
    "\n",
    "# take gradient with respect to the perturbations pytree\n",
    "# by setting `argnums=1` in `jax.grad`\n",
    "inter_grads = jax.grad(foo, argnums=1)(1.0, dict(b=0.0, c=0.0))\n",
    "inter_grads"
   ]
  }
 ],
 "metadata": {
  "language_info": {
   "name": "python"
  }
 },
 "nbformat": 4,
 "nbformat_minor": 2
}
