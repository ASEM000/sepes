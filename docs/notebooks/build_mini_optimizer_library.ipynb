{
 "cells": [
  {
   "attachments": {},
   "cell_type": "markdown",
   "metadata": {},
   "source": [
    "# 🧮 Building a mini optimizer library"
   ]
  },
  {
   "attachments": {},
   "cell_type": "markdown",
   "metadata": {},
   "source": [
    "In the following example an `optax`-like mini-library is built using `sepes`. The optimizer library is then used to train a simple neural network."
   ]
  },
  {
   "cell_type": "code",
   "execution_count": 1,
   "metadata": {},
   "outputs": [],
   "source": [
    "!pip install sepes --quiet"
   ]
  },
  {
   "cell_type": "markdown",
   "metadata": {},
   "source": [
    "## Imports"
   ]
  },
  {
   "cell_type": "code",
   "execution_count": 2,
   "metadata": {},
   "outputs": [],
   "source": [
    "import jax\n",
    "import jax.numpy as jnp\n",
    "import sepes as sp\n",
    "from typing import Any, TypeVar, Generic, Callable\n",
    "import abc\n",
    "import matplotlib.pyplot as plt\n",
    "\n",
    "PyTree = Any\n",
    "T = TypeVar(\"T\")"
   ]
  },
  {
   "cell_type": "markdown",
   "metadata": {},
   "source": [
    "## Template"
   ]
  },
  {
   "cell_type": "code",
   "execution_count": 3,
   "metadata": {},
   "outputs": [],
   "source": [
    "class GradientTransformation(sp.TreeClass, Generic[T]):\n",
    "    # TreeClass inherits from `abc.ABC`\n",
    "    # following the same pattern as `optax` optimizers\n",
    "    # https://github.com/deepmind/optax/blob/fc5de3d3951c4dfd87513c6426e30baf505d89ae/optax/_src/base.py#L85\n",
    "    @abc.abstractclassmethod\n",
    "    def update(self, _: T) -> tuple[T, \"GradientTransformation\"]:\n",
    "        pass"
   ]
  },
  {
   "cell_type": "markdown",
   "metadata": {},
   "source": [
    "## Optimizer functions"
   ]
  },
  {
   "cell_type": "code",
   "execution_count": 4,
   "metadata": {},
   "outputs": [],
   "source": [
    "def moment_update(grads, moments, *, beta: float, order: int):\n",
    "    def moment_step(grad, moment):\n",
    "        return beta * moment + (1 - beta) * (grad**order)\n",
    "\n",
    "    return jax.tree_map(moment_step, grads, moments)\n",
    "\n",
    "\n",
    "def debias_update(moments, *, beta: float, count: int):\n",
    "    def debias_step(moment):\n",
    "        return moment / (1 - beta**count)\n",
    "\n",
    "    return jax.tree_map(debias_step, moments)\n",
    "\n",
    "\n",
    "def ema(decay_rate: float, debias: float = True) -> GradientTransformation:\n",
    "    \"\"\"Exponential moving average\n",
    "\n",
    "    Args:\n",
    "        decay_rate: The decay rate of the moving average.\n",
    "        debias: Whether to debias the moving average.\n",
    "    \"\"\"\n",
    "\n",
    "    class EMA(GradientTransformation):\n",
    "        def __init__(self, tree):\n",
    "            self.state = jax.tree_map(jnp.zeros_like, tree)\n",
    "            self.count = 0\n",
    "\n",
    "        def _update(self, grads: T) -> T:\n",
    "            self.count += 1\n",
    "            self.state = moment_update(grads, self.state, beta=decay_rate, order=1)\n",
    "            if debias:\n",
    "                return debias_update(self.state, beta=decay_rate, count=self.count)\n",
    "            return self.state\n",
    "\n",
    "        def update(self, grads: T) -> tuple[T, \"EMA\"]:\n",
    "            return self.at[\"_update\"](grads)\n",
    "\n",
    "    return EMA\n",
    "\n",
    "\n",
    "def adam(\n",
    "    *,\n",
    "    beta1: float = 0.9,\n",
    "    beta2: float = 0.999,\n",
    "    eps: float = 1e-8,\n",
    ") -> GradientTransformation:\n",
    "    \"\"\"Adam optimizer\n",
    "\n",
    "    Args:\n",
    "        beta1: The decay rate of the first moment.\n",
    "        beta2: The decay rate of the second moment.\n",
    "        eps: A small value to prevent division by zero.\n",
    "\n",
    "    Note:\n",
    "        Kingma et al, 2014: https://arxiv.org/abs/1412.6980\n",
    "    \"\"\"\n",
    "\n",
    "    class Adam(GradientTransformation):\n",
    "        def __init__(self, tree):\n",
    "            self.mu = jax.tree_map(jnp.zeros_like, tree)\n",
    "            self.nu = jax.tree_map(jnp.zeros_like, tree)\n",
    "            self.count = 0\n",
    "\n",
    "        def _update(self, grads: T) -> T:\n",
    "            self.count += 1\n",
    "            self.mu = moment_update(grads, self.mu, beta=beta1, order=1)\n",
    "            self.nu = moment_update(grads, self.nu, beta=beta2, order=2)\n",
    "            mu_hat = debias_update(self.mu, beta=beta1, count=self.count)\n",
    "            nu_hat = debias_update(self.nu, beta=beta2, count=self.count)\n",
    "            return jax.tree_map(\n",
    "                lambda mu, nu: mu / (jnp.sqrt(nu) + eps), mu_hat, nu_hat\n",
    "            )\n",
    "\n",
    "        def update(self, grads: T) -> tuple[T, \"Adam\"]:\n",
    "            # since self._update mutates the state, we need to use self.at\n",
    "            # to return the method value and the mutated state\n",
    "            return self.at[\"_update\"](grads)\n",
    "\n",
    "    return Adam\n",
    "\n",
    "\n",
    "def scale(rate_func: Callable[[int], float]) -> GradientTransformation:\n",
    "    \"\"\"Scale the gradients by a scheduler function\"\"\"\n",
    "\n",
    "    class Scale(GradientTransformation):\n",
    "        def __init__(self, _=None):\n",
    "            self.count = 0\n",
    "            self.rate = rate_func(self.count)\n",
    "\n",
    "        def _update(self, grads: T) -> T:\n",
    "            self.count += 1\n",
    "            self.rate = rate_func(self.count)\n",
    "            return jax.tree_map(lambda x: x * self.rate, grads)\n",
    "\n",
    "        def update(self, grads: T) -> tuple[T, \"Scale\"]:\n",
    "            return self.at[\"_update\"](grads)\n",
    "\n",
    "    return Scale\n",
    "\n",
    "\n",
    "def chain(\n",
    "    *transformations: tuple[GradientTransformation, ...]\n",
    ") -> GradientTransformation:\n",
    "    \"\"\"Chain multiple transformations together similar to `optax.chain`\"\"\"\n",
    "\n",
    "    class Chain(GradientTransformation):\n",
    "        def __init__(self, tree):\n",
    "            self.transformations = tuple(T(tree) for T in transformations)\n",
    "\n",
    "        def _update(self, grads: T) -> T:\n",
    "            state = []\n",
    "            for transformation in self.transformations:\n",
    "                grads, optim_state = transformation.update(grads)\n",
    "                state += [optim_state]\n",
    "            self.transformations = tuple(state)\n",
    "            return grads\n",
    "\n",
    "        def update(self, grads: T) -> tuple[T, \"Chain\"]:\n",
    "            return self.at[\"_update\"](grads)\n",
    "\n",
    "    return Chain"
   ]
  },
  {
   "cell_type": "markdown",
   "metadata": {},
   "source": [
    "## Construct a fully connected neural network"
   ]
  },
  {
   "cell_type": "code",
   "execution_count": 5,
   "metadata": {},
   "outputs": [],
   "source": [
    "class FNN(sp.TreeClass):\n",
    "    def __init__(self):\n",
    "        self.w1 = jax.random.normal(jax.random.PRNGKey(0), [1, 10])\n",
    "        self.b1 = jnp.zeros([10], dtype=jnp.float32)\n",
    "        self.w2 = jax.random.normal(jax.random.PRNGKey(1), [10, 1])\n",
    "        self.b2 = jnp.zeros([1], dtype=jnp.float32)\n",
    "\n",
    "    def __call__(self, x: jax.Array) -> jax.Array:\n",
    "        x = x @ self.w1 + self.b1\n",
    "        x = jax.nn.relu(x)\n",
    "        x = x @ self.w2 + self.b2\n",
    "        return x"
   ]
  },
  {
   "cell_type": "markdown",
   "metadata": {},
   "source": [
    "## Train function"
   ]
  },
  {
   "cell_type": "code",
   "execution_count": 6,
   "metadata": {},
   "outputs": [
    {
     "name": "stdout",
     "output_type": "stream",
     "text": [
      "Epoch=1000\tLoss: 1.322e-04\t Gradient scaler: -1.000e-02\n",
      "Epoch=2000\tLoss: 8.230e-05\t Gradient scaler: -1.000e-03\n",
      "Epoch=3000\tLoss: 8.062e-05\t Gradient scaler: -1.000e-03\n",
      "Epoch=4000\tLoss: 7.908e-05\t Gradient scaler: -1.000e-03\n",
      "Epoch=5000\tLoss: 7.730e-05\t Gradient scaler: -1.000e-04\n",
      "Epoch=6000\tLoss: 7.702e-05\t Gradient scaler: -1.000e-04\n",
      "Epoch=7000\tLoss: 7.657e-05\t Gradient scaler: -1.000e-04\n",
      "Epoch=8000\tLoss: 7.584e-05\t Gradient scaler: -1.000e-04\n",
      "Epoch=9000\tLoss: 7.464e-05\t Gradient scaler: -1.000e-04\n",
      "Epoch=10000\tLoss: 7.271e-05\t Gradient scaler: -1.000e-04\n"
     ]
    },
    {
     "data": {
      "text/plain": [
       "<matplotlib.legend.Legend at 0x1313c18d0>"
      ]
     },
     "execution_count": 6,
     "metadata": {},
     "output_type": "execute_result"
    },
    {
     "data": {
      "image/png": "[encoded data removed]",
      "text/plain": [
       "<Figure size 640x480 with 1 Axes>"
      ]
     },
     "metadata": {},
     "output_type": "display_data"
    }
   ],
   "source": [
    "def scheduler(count: int) -> float:\n",
    "    # build a scheduler function\n",
    "    return jnp.where(count < 2_000, -1e-2, jnp.where(count < 5_000, -1e-3, -1e-4))\n",
    "\n",
    "\n",
    "fnn = FNN()\n",
    "optim = chain(adam(), scale(scheduler))\n",
    "optim_state = optim(fnn)\n",
    "\n",
    "\n",
    "def loss_func(fnn: FNN, x: jax.Array, y: jax.Array) -> jax.Array:\n",
    "    return jnp.mean((fnn(x) - y) ** 2)\n",
    "\n",
    "\n",
    "@jax.jit\n",
    "def train_step(fnn, optim_state, x, y):\n",
    "    grads = jax.grad(loss_func)(fnn, x, y)\n",
    "\n",
    "    grads, optim_state = optim_state.update(grads)\n",
    "    fnn = jax.tree_map(lambda p, g: p + g, fnn, grads)\n",
    "    return fnn, optim_state\n",
    "\n",
    "\n",
    "x = jnp.linspace(-1, 1, 100).reshape(-1, 1)\n",
    "y = x**2 + 0.1\n",
    "\n",
    "for i in range(1, 10_000 + 1):\n",
    "    fnn, optim_state = train_step(fnn, optim_state, x, y)\n",
    "    if i % 1_000 == 0:\n",
    "        loss = loss_func(fnn, x, y)\n",
    "        learning_rate = optim_state.transformations[1].rate\n",
    "        print(\n",
    "            f\"Epoch={i:003d}\\tLoss: {loss:.3e}\\t Gradient scaler: {learning_rate:.3e}\"\n",
    "        )\n",
    "\n",
    "plt.plot(x, y, label=\"true\")\n",
    "plt.plot(x, fnn(x), label=\"pred\")\n",
    "plt.legend()"
   ]
  }
 ],
 "metadata": {
  "kernelspec": {
   "display_name": "dev-jax",
   "language": "python",
   "name": "python3"
  },
  "language_info": {
   "codemirror_mode": {
    "name": "ipython",
    "version": 3
   },
   "file_extension": ".py",
   "mimetype": "text/x-python",
   "name": "python",
   "nbconvert_exporter": "python",
   "pygments_lexer": "ipython3",
   "version": "3.10.0"
  },
  "orig_nbformat": 4
 },
 "nbformat": 4,
 "nbformat_minor": 2
}
