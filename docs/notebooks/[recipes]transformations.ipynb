{
 "cells": [
  {
   "attachments": {},
   "cell_type": "markdown",
   "metadata": {},
   "source": [
    "# 💫  Transformations"
   ]
  },
  {
   "attachments": {},
   "cell_type": "markdown",
   "metadata": {},
   "source": [
    "This section introduces common function transformations that are used in conjunction with pytrees. Examples includes function transformation that wraps `jax` transforms or a function transformation that wraps `numpy`."
   ]
  },
  {
   "cell_type": "code",
   "execution_count": 1,
   "metadata": {},
   "outputs": [],
   "source": [
    "!pip install sepes"
   ]
  },
  {
   "attachments": {},
   "cell_type": "markdown",
   "metadata": {},
   "source": [
    "## [1] Broadcasting transformations\n",
    "\n",
    "Using `bcmap` to apply a function over pytree leaves with automatic broadcasting for scalar arguments. "
   ]
  },
  {
   "cell_type": "markdown",
   "metadata": {},
   "source": [
    "### `bcmap` + `numpy`\n",
    "\n",
    "In this recipe, `numpy` functions will operate directly on `TreeClass` instances."
   ]
  },
  {
   "cell_type": "code",
   "execution_count": 2,
   "metadata": {},
   "outputs": [
    {
     "name": "stdout",
     "output_type": "stream",
     "text": [
      "Tree(a=0, b=(0.0, 103.0), c=[104. 105. 106.])\n"
     ]
    }
   ],
   "source": [
    "import sepes as sp\n",
    "import jax\n",
    "import jax.numpy as jnp\n",
    "\n",
    "\n",
    "@sp.leafwise  # enable math operations on leaves\n",
    "@sp.autoinit  # generate __init__ from type annotations\n",
    "class Tree(sp.TreeClass):\n",
    "    a: int = 1\n",
    "    b: tuple[float] = (2.0, 3.0)\n",
    "    c: jax.Array = jnp.array([4.0, 5.0, 6.0])\n",
    "\n",
    "\n",
    "tree = Tree()\n",
    "\n",
    "# make where work with arbitrary pytrees\n",
    "tree_where = sp.bcmap(jnp.where)\n",
    "# for values > 2, add 100, else set to 0\n",
    "print(tree_where(tree > 2, tree + 100, 0))"
   ]
  },
  {
   "cell_type": "markdown",
   "metadata": {},
   "source": [
    "`bcmap` on pytrees with non-jaxtype\n",
    "\n",
    "In case the tree has some non-jaxtype leaves, The above will fail, but we can use `tree_mask`/`tree_unmask` to fix it"
   ]
  },
  {
   "cell_type": "code",
   "execution_count": 3,
   "metadata": {},
   "outputs": [
    {
     "name": "stdout",
     "output_type": "stream",
     "text": [
      "bcmap fail '>' not supported between instances of 'str' and 'int'\n",
      "Tree(a=0.0, b=(0.0, 103.0), c=[104. 105. 106.], name=tree, func=<lambda>(x))\n"
     ]
    }
   ],
   "source": [
    "# in case the tree has some non-jaxtype leaves\n",
    "# the above will fail, but we can use `tree_mask`/`tree_unmask` to fix it\n",
    "import sepes as sp\n",
    "import jax.numpy as jnp\n",
    "from typing import Callable\n",
    "\n",
    "\n",
    "@sp.leafwise  # enable math operations on leaves\n",
    "@sp.autoinit  # generate __init__ from type annotations\n",
    "class Tree(sp.TreeClass):\n",
    "    a: float = 1.0\n",
    "    b: tuple[float] = (2.0, 3.0)\n",
    "    c: jax.Array = jnp.array([4.0, 5.0, 6.0])\n",
    "    name: str = \"tree\"  # non-jaxtype\n",
    "    func: Callable = lambda x: x  # non-jaxtype\n",
    "\n",
    "\n",
    "tree = Tree()\n",
    "\n",
    "try:\n",
    "    # make where work with arbitrary pytrees with non-jaxtype leaves\n",
    "    tree_where = sp.bcmap(jnp.where)\n",
    "    # for values > 2, add 100, else set to 0\n",
    "    print(tree_where(tree > 2, tree + 100, 0))\n",
    "except TypeError as e:\n",
    "    print(\"bcmap fail\", e)\n",
    "    # now we can use `tree_mask`/`tree_unmask` to fix it\n",
    "    masked_tree = sp.tree_mask(tree)  # mask non-jaxtype leaves\n",
    "    masked_tree = tree_where(masked_tree > 2, masked_tree + 100, 0)\n",
    "    unmasked_tree = sp.tree_unmask(masked_tree)\n",
    "    print(unmasked_tree)"
   ]
  },
  {
   "attachments": {},
   "cell_type": "markdown",
   "metadata": {},
   "source": [
    "### `bcmap` + configs\n",
    "\n",
    "The next example shows how to use `serket.bcmap` to loop over a configuration dictionary that defines creation of simple linear layers."
   ]
  },
  {
   "cell_type": "code",
   "execution_count": 4,
   "metadata": {},
   "outputs": [
    {
     "data": {
      "text/plain": [
       "[Linear(\n",
       "   weight=f32[1,1](μ=0.31, σ=0.00, ∈[0.31,0.31]), \n",
       "   bias=f32[1](μ=0.00, σ=0.00, ∈[0.00,0.00])\n",
       " ),\n",
       " Linear(\n",
       "   weight=f32[2,1](μ=-1.27, σ=0.33, ∈[-1.59,-0.94]), \n",
       "   bias=f32[1](μ=0.00, σ=0.00, ∈[0.00,0.00])\n",
       " ),\n",
       " Linear(\n",
       "   weight=f32[3,1](μ=0.24, σ=0.53, ∈[-0.48,0.77]), \n",
       "   bias=f32[1](μ=0.00, σ=0.00, ∈[0.00,0.00])\n",
       " ),\n",
       " Linear(\n",
       "   weight=f32[4,1](μ=-0.28, σ=0.21, ∈[-0.64,-0.08]), \n",
       "   bias=f32[1](μ=0.00, σ=0.00, ∈[0.00,0.00])\n",
       " )]"
      ]
     },
     "execution_count": 4,
     "metadata": {},
     "output_type": "execute_result"
    }
   ],
   "source": [
    "import sepes as sp\n",
    "import jax\n",
    "\n",
    "\n",
    "class Linear(sp.TreeClass):\n",
    "    def __init__(self, in_dim: int, out_dim: int, *, key: jax.Array):\n",
    "        self.weight = jax.random.normal(key, (in_dim, out_dim))\n",
    "        self.bias = jnp.zeros((out_dim,))\n",
    "\n",
    "    def __call__(self, x: jax.Array) -> jax.Array:\n",
    "        return x @ self.weight + self.bias\n",
    "\n",
    "\n",
    "config = {\n",
    "    # each layer gets a different input dimension\n",
    "    \"in_dim\": [1, 2, 3, 4],\n",
    "    # out_dim is broadcasted to all layers\n",
    "    \"out_dim\": 1,\n",
    "    # each layer gets a different key\n",
    "    \"key\": list(jax.random.split(jax.random.PRNGKey(0), 4)),\n",
    "}\n",
    "\n",
    "\n",
    "# `bcmap` transforms a function that takes a single input into a function that\n",
    "# arbitrary pytree inputs. in case of a single input, the input is broadcasted\n",
    "# to match the tree structure of the first argument\n",
    "# (in our example is a list of 4 inputs)\n",
    "\n",
    "\n",
    "@sp.bcmap\n",
    "def build_layer(in_dim, out_dim, *, key: jax.Array):\n",
    "    return Linear(in_dim, out_dim, key=key)\n",
    "\n",
    "\n",
    "build_layer(config[\"in_dim\"], config[\"out_dim\"], key=config[\"key\"])"
   ]
  },
  {
   "cell_type": "markdown",
   "metadata": {},
   "source": [
    "## [2] Masked transformations\n",
    "\n",
    "As an alternative to using `sp.tree_unmask` on pytrees before calling the function -as seen throughout training examples and recipes- , another approach is to wrap a certain transformation - not pytrees - (e.g. `jit`) to be make the masking/unmasking automatic; however this apporach will incur more overhead than applying `sp.tree_unmask` before the function call.\n",
    "\n",
    "The following example demonstrate how to wrap `jit`, and `vmap`."
   ]
  },
  {
   "cell_type": "code",
   "execution_count": 3,
   "metadata": {},
   "outputs": [],
   "source": [
    "import sepes as sp\n",
    "import functools as ft\n",
    "import jax\n",
    "import jax.random as jr\n",
    "import jax.numpy as jnp\n",
    "from typing import Any\n",
    "from typing import Any, Callable, TypeVar\n",
    "from typing_extensions import ParamSpec\n",
    "\n",
    "T = TypeVar(\"T\")\n",
    "P = ParamSpec(\"P\")\n",
    "\n",
    "\n",
    "def automask(jax_transform: Callable[P, T]) -> Callable[P, T]:\n",
    "    \"\"\"Enable jax transformations to accept non-jax types. e.g. ``jax.grad``.\"\"\"\n",
    "    # works with functions that takes a function as input\n",
    "    # and returns a function as output e.g. `jax.grad`\n",
    "\n",
    "    def out_transform(func, **transformation_kwargs):\n",
    "        @ft.partial(jax_transform, **transformation_kwargs)\n",
    "        def jax_boundary(*args, **kwargs):\n",
    "            args, kwargs = sp.tree_unmask((args, kwargs))\n",
    "            return sp.tree_mask(func(*args, **kwargs))\n",
    "\n",
    "        @ft.wraps(func)\n",
    "        def outer_wrapper(*args, **kwargs):\n",
    "            args, kwargs = sp.tree_mask((args, kwargs))\n",
    "            output = jax_boundary(*args, **kwargs)\n",
    "            return sp.tree_unmask(output)\n",
    "\n",
    "        return outer_wrapper\n",
    "\n",
    "    return out_transform\n",
    "\n",
    "\n",
    "def inline_automask(jax_transform: Callable[P, T]) -> Callable[P, T]:\n",
    "    \"\"\"Enable jax transformations to accept non-jax types e.g. ``jax.lax.scan``.\"\"\"\n",
    "    # works with functions that takes a function and arguments as input\n",
    "    # and returns jax types as output e.g. `jax.lax.scan`\n",
    "\n",
    "    def outer_wrapper(func, *args, **kwargs):\n",
    "        args, kwargs = sp.tree_mask((args, kwargs))\n",
    "\n",
    "        def func_masked(*args, **kwargs):\n",
    "            args, kwargs = sp.tree_unmask((args, kwargs))\n",
    "            return sp.tree_mask(func(*args, **kwargs))\n",
    "\n",
    "        output = jax_transform(func_masked, *args, **kwargs)\n",
    "        return sp.tree_unmask(output)\n",
    "\n",
    "    return outer_wrapper"
   ]
  },
  {
   "cell_type": "markdown",
   "metadata": {},
   "source": [
    "### `automask`(`jit`)"
   ]
  },
  {
   "cell_type": "code",
   "execution_count": 4,
   "metadata": {},
   "outputs": [
    {
     "name": "stdout",
     "output_type": "stream",
     "text": [
      "`jit error`: Argument 'layer' of type <class 'str'> is not a valid JAX type\n",
      "\n",
      "Using automask:\n",
      "forward_jit(params, x)=Array([[4.999546, 4.999546, 4.999546, 4.999546, 4.999546],\n",
      "       [4.999546, 4.999546, 4.999546, 4.999546, 4.999546],\n",
      "       [4.999546, 4.999546, 4.999546, 4.999546, 4.999546],\n",
      "       [4.999546, 4.999546, 4.999546, 4.999546, 4.999546],\n",
      "       [4.999546, 4.999546, 4.999546, 4.999546, 4.999546]], dtype=float32)\n"
     ]
    }
   ],
   "source": [
    "x, y = jnp.ones([5, 5]), jnp.ones([5, 5])\n",
    "\n",
    "params = dict(w1=jnp.ones([5, 5]), w2=jnp.ones([5, 5]), name=\"layer\")\n",
    "\n",
    "\n",
    "def forward(params: dict[str, Any], x: jax.Array) -> jax.Array:\n",
    "    return jnp.tanh(x @ params[\"w1\"]) @ params[\"w2\"]\n",
    "\n",
    "\n",
    "try:\n",
    "    forward_jit = jax.jit(forward)\n",
    "    print(forward_jit(params, x))\n",
    "except TypeError as e:\n",
    "    print(\"`jit error`:\", e)\n",
    "    # now with `automask` the function can accept non-jax types (e.g. string)\n",
    "    forward_jit = automask(jax.jit)(forward)\n",
    "    print(\"\\nUsing automask:\")\n",
    "    print(f\"{forward_jit(params, x)=}\")"
   ]
  },
  {
   "cell_type": "markdown",
   "metadata": {},
   "source": [
    "### `automask`(`vmap`)"
   ]
  },
  {
   "cell_type": "code",
   "execution_count": 6,
   "metadata": {},
   "outputs": [
    {
     "name": "stdout",
     "output_type": "stream",
     "text": [
      "`vmap error`: Output from batched function 'layer' with type <class 'str'> is not a valid JAX type\n",
      "\n",
      "Using automask:\n",
      "dict(\n",
      "  name=layer, \n",
      "  w1=f32[4,5,5](μ=0.50, σ=0.28, ∈[0.02,1.00]), \n",
      "  w2=f32[4,5,5](μ=0.46, σ=0.27, ∈[0.01,0.99])\n",
      ")\n"
     ]
    }
   ],
   "source": [
    "def make_params(key: jax.Array):\n",
    "    k1, k2 = jax.random.split(key.astype(jnp.uint32))\n",
    "    return dict(w1=jr.uniform(k1, (5, 5)), w2=jr.uniform(k2, (5, 5)), name=\"layer\")\n",
    "\n",
    "\n",
    "keys = jr.split(jr.PRNGKey(0), 4).astype(jnp.float32)\n",
    "\n",
    "try:\n",
    "    params = jax.vmap(make_params)(keys)\n",
    "    print(params)\n",
    "except TypeError as e:\n",
    "    print(\"`vmap error`:\", e)\n",
    "    # now with `automask` the function can accept non-jax types (e.g. string)\n",
    "    params = automask(jax.vmap)(make_params)(keys)\n",
    "    print(\"\\nUsing automask:\")\n",
    "    print(sp.tree_repr(params))"
   ]
  },
  {
   "cell_type": "markdown",
   "metadata": {},
   "source": [
    "### `automask`(`make_jaxpr`)"
   ]
  },
  {
   "cell_type": "code",
   "execution_count": 8,
   "metadata": {},
   "outputs": [
    {
     "name": "stdout",
     "output_type": "stream",
     "text": [
      "`jax.make_jaxpr` failed: error=TypeError(\"Argument 'layer' of type <class 'str'> is not a valid JAX type\")\n",
      "\n",
      "Using `automask:\n",
      "{ \u001b[34m\u001b[22m\u001b[1mlambda \u001b[39m\u001b[22m\u001b[22m; a\u001b[35m:f32[4,5,5]\u001b[39m b\u001b[35m:f32[4,5,5]\u001b[39m c\u001b[35m:f32[10,5]\u001b[39m. \u001b[34m\u001b[22m\u001b[1mlet\n",
      "    \u001b[39m\u001b[22m\u001b[22md\u001b[35m:f32[10,4,5]\u001b[39m = dot_general[\n",
      "      dimension_numbers=(([1], [1]), ([], []))\n",
      "      preferred_element_type=float32\n",
      "    ] c a\n",
      "    e\u001b[35m:f32[4,10,5]\u001b[39m = transpose[permutation=(1, 0, 2)] d\n",
      "    f\u001b[35m:f32[4,10,5]\u001b[39m = tanh e\n",
      "    g\u001b[35m:f32[4,10,5]\u001b[39m = dot_general[\n",
      "      dimension_numbers=(([2], [1]), ([0], [0]))\n",
      "      preferred_element_type=float32\n",
      "    ] f b\n",
      "  \u001b[34m\u001b[22m\u001b[1min \u001b[39m\u001b[22m\u001b[22m(g,) }\n"
     ]
    }
   ],
   "source": [
    "def make_params(key: jax.Array):\n",
    "    k1, k2 = jax.random.split(key.astype(jnp.uint32))\n",
    "    return dict(w1=jr.uniform(k1, (5, 5)), w2=jr.uniform(k2, (5, 5)), name=\"layer\")\n",
    "\n",
    "\n",
    "keys = jr.split(jr.PRNGKey(0), 4).astype(jnp.float32)\n",
    "params = automask(jax.vmap)(make_params)(keys)\n",
    "\n",
    "\n",
    "def forward(params: dict[str, Any], x: jax.Array) -> jax.Array:\n",
    "    return jnp.tanh(x @ params[\"w1\"]) @ params[\"w2\"]\n",
    "\n",
    "\n",
    "try:\n",
    "    jax.make_jaxpr(forward)(params, jnp.ones((10, 5)))\n",
    "except TypeError as error:\n",
    "    print(f\"`jax.make_jaxpr` failed: {error=}\")\n",
    "    print(\"\\nUsing `automask:\")\n",
    "    print(automask(jax.make_jaxpr)(forward)(params, jnp.ones((10, 5))))"
   ]
  },
  {
   "cell_type": "markdown",
   "metadata": {},
   "source": [
    "### `inline_automask`(`scan`)"
   ]
  },
  {
   "cell_type": "code",
   "execution_count": 14,
   "metadata": {},
   "outputs": [
    {
     "name": "stdout",
     "output_type": "stream",
     "text": [
      "`jax.lax.scan` Failed: error=TypeError(\"Value 'layer' with type <class 'str'> is not a valid JAX type\")\n",
      "\n",
      "Using `inline_automask`:\n",
      "({'name': 'layer', 'w1': Array([[[0.6022109 , 0.06545091, 0.7613505 ]],\n",
      "\n",
      "       [[0.33657324, 0.3744743 , 0.12130237]],\n",
      "\n",
      "       [[0.51550114, 0.17686307, 0.6407058 ]],\n",
      "\n",
      "       [[0.9101157 , 0.9690273 , 0.36771262]]], dtype=float32), 'w2': Array([[[0.2678218 ],\n",
      "        [0.3963921 ],\n",
      "        [0.7078583 ]],\n",
      "\n",
      "       [[0.18808937],\n",
      "        [0.8475715 ],\n",
      "        [0.04241407]],\n",
      "\n",
      "       [[0.74411213],\n",
      "        [0.6318574 ],\n",
      "        [0.58551705]],\n",
      "\n",
      "       [[0.34456158],\n",
      "        [0.5347049 ],\n",
      "        [0.3992592 ]]], dtype=float32)}, Array([[[[0.62451595],\n",
      "         [0.3141999 ],\n",
      "         [0.59660065],\n",
      "         [0.7389193 ]],\n",
      "\n",
      "        [[0.1839285 ],\n",
      "         [0.36948383],\n",
      "         [0.26153624],\n",
      "         [0.7847949 ]],\n",
      "\n",
      "        [[0.81791794],\n",
      "         [0.53822035],\n",
      "         [0.7945141 ],\n",
      "         [1.2155443 ]],\n",
      "\n",
      "        [[0.4768083 ],\n",
      "         [0.35134616],\n",
      "         [0.48272693],\n",
      "         [0.78913575]]]], dtype=float32))\n"
     ]
    }
   ],
   "source": [
    "def make_params(key: jax.Array):\n",
    "    k1, k2 = jax.random.split(key.astype(jnp.uint32))\n",
    "    return dict(w1=jr.uniform(k1, (1, 3)), w2=jr.uniform(k2, (3, 1)), name=\"layer\")\n",
    "\n",
    "\n",
    "keys = jr.split(jr.PRNGKey(0), 4).astype(jnp.float32)\n",
    "params = automask(jax.vmap)(make_params)(keys)\n",
    "\n",
    "\n",
    "def forward(params: dict[str, Any], x: jax.Array) -> jax.Array:\n",
    "    return jnp.tanh(x @ params[\"w1\"]) @ params[\"w2\"]\n",
    "\n",
    "\n",
    "def scan_func(params, input):\n",
    "    # layer contains non-jax types\n",
    "    output = forward(params, input)\n",
    "    return params, output\n",
    "\n",
    "\n",
    "try:\n",
    "    jax.lax.scan(scan_func, params, jnp.ones((1, 1)))\n",
    "except TypeError as error:\n",
    "    print(f\"`jax.lax.scan` Failed: {error=}\")\n",
    "    print(\"\\nUsing `inline_automask`:\")\n",
    "    print(inline_automask(jax.lax.scan)(scan_func, params, jnp.ones((1, 1))))"
   ]
  },
  {
   "cell_type": "markdown",
   "metadata": {},
   "source": [
    "### `inline_automask`(`eval_shape`)"
   ]
  },
  {
   "cell_type": "code",
   "execution_count": 18,
   "metadata": {},
   "outputs": [
    {
     "name": "stdout",
     "output_type": "stream",
     "text": [
      "`jax.eval_shape` Failed: error=TypeError(\"Argument 'layer' of type <class 'str'> is not a valid JAX type\")\n",
      "\n",
      "Using `inline_automask`:\n",
      "ShapeDtypeStruct(shape=(10, 1), dtype=float32)\n"
     ]
    }
   ],
   "source": [
    "def make_params(key: jax.Array):\n",
    "    k1, k2 = jax.random.split(key.astype(jnp.uint32))\n",
    "    return dict(w1=jr.uniform(k1, (1, 3)), w2=jr.uniform(k2, (3, 1)), name=\"layer\")\n",
    "\n",
    "\n",
    "params = make_params(jr.PRNGKey(0))\n",
    "\n",
    "\n",
    "def forward(params: dict[str, Any], x: jax.Array) -> jax.Array:\n",
    "    return jnp.tanh(x @ params[\"w1\"]) @ params[\"w2\"]\n",
    "\n",
    "\n",
    "try:\n",
    "    jax.eval_shape(forward, params, jnp.ones((10, 1)))\n",
    "except TypeError as error:\n",
    "    print(f\"`jax.eval_shape` Failed: {error=}\")\n",
    "    print(\"\\nUsing `inline_automask`:\")\n",
    "    print(inline_automask(jax.eval_shape)(forward, params, jnp.ones((10, 1))))"
   ]
  }
 ],
 "metadata": {
  "kernelspec": {
   "display_name": "dev-jax",
   "language": "python",
   "name": "python3"
  },
  "language_info": {
   "codemirror_mode": {
    "name": "ipython",
    "version": 3
   },
   "file_extension": ".py",
   "mimetype": "text/x-python",
   "name": "python",
   "nbconvert_exporter": "python",
   "pygments_lexer": "ipython3",
   "version": "3.12.2"
  },
  "orig_nbformat": 4
 },
 "nbformat": 4,
 "nbformat_minor": 2
}
