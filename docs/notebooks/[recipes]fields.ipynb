{
 "cells": [
  {
   "attachments": {},
   "cell_type": "markdown",
   "metadata": {},
   "source": [
    "# 🏟️ Fields"
   ]
  },
  {
   "cell_type": "code",
   "execution_count": 1,
   "metadata": {},
   "outputs": [],
   "source": [
    "!pip install sepes"
   ]
  },
  {
   "attachments": {},
   "cell_type": "markdown",
   "metadata": {},
   "source": [
    "This section introduces common recipes for fields. A `sepes.field` is class variable that adds certain functionality to the class with `jax` and `numpy`, but this can work with any other framework.\n",
    "\n",
    "Add field is written like this:\n",
    "\n",
    "```python\n",
    "class MyClass:\n",
    "    my_field: Any = sepes.field()\n",
    "```\n",
    "For example, a `field` can be used to validate the input data, or to provide a default value. The notebook provides examples for common use cases.\n",
    "\n",
    "`sepes.field` is implemented as a [python descriptor](https://docs.python.org/3/howto/descriptor.html), which means that it can be used in any class not necessarily a `sepes` class. Refer to the [python documentation](https://docs.python.org/3/howto/descriptor.html) for more information on descriptors and how they work."
   ]
  },
  {
   "cell_type": "markdown",
   "metadata": {},
   "source": [
    "## [1] Buffers\n",
    "In this example, certain array will be marked as non-trainable using `jax.lax.stop_gradient` and `field`.\n",
    "\n",
    "The standard way to mark an array as a buffer (e.g. non-trainable) is to write something like this:\n",
    "```python\n",
    "class Tree(sp.TreeClass):\n",
    "    def __init__(self, buffer: jax.Array):\n",
    "        self.buffer = buffer\n",
    "\n",
    "    def __call__(self, x: jax.Array) -> jax.Array:\n",
    "        return x + jax.lax.stop_gradient(self.buffer)\n",
    "```\n",
    "However, if you access this buffer from other methods, then another `jax.lax.stop_gradient` should be used and written inside all the methods:\n",
    "\n",
    "```python\n",
    "class Tree(sp.TreeClass):\n",
    "    def method_1(self, x: jax.Array) -> jax.Array:\n",
    "        return x + jax.lax.stop_gradient(self.buffer)\n",
    "        .\n",
    "        .\n",
    "        .\n",
    "    def method_n(self, x: jax.Array) -> jax.Array:\n",
    "        return x + jax.lax.stop_gradient(self.buffer)\n",
    "```\n",
    "\n",
    "Similarly, if you access `buffer` defined for `Tree` instances, from another context, you need to use `jax.lax.stop_gradient` again:\n",
    "\n",
    "```python\n",
    "tree = Tree(buffer=...)\n",
    "def func(tree: Tree):\n",
    "    buffer = jax.lax.stop_gradient(tree.buffer)\n",
    "    ...    \n",
    "```\n",
    "\n",
    "This becomes **cumbersome** if this process is repeated multiple times.Alternatively, `jax.lax.stop_gradient` can be applied to the `buffer` using `sepes.field` whenever the buffer is accessed. The next example demonstrates this."
   ]
  },
  {
   "cell_type": "code",
   "execution_count": 2,
   "metadata": {},
   "outputs": [
    {
     "name": "stdout",
     "output_type": "stream",
     "text": [
      "6.0\n",
      "Tree(buffer=[0. 0. 0.])\n"
     ]
    }
   ],
   "source": [
    "import sepes as sp\n",
    "import jax\n",
    "import jax.numpy as jnp\n",
    "\n",
    "\n",
    "def buffer_field(**kwargs):\n",
    "    return sp.field(on_getattr=[jax.lax.stop_gradient], **kwargs)\n",
    "\n",
    "\n",
    "@sp.autoinit  # autoinit construct `__init__` from fields\n",
    "class Tree(sp.TreeClass):\n",
    "    buffer: jax.Array = buffer_field()\n",
    "\n",
    "    def __call__(self, x):\n",
    "        return self.buffer**x\n",
    "\n",
    "\n",
    "tree = Tree(buffer=jnp.array([1.0, 2.0, 3.0]))\n",
    "tree(2.0)  # Array([1., 4., 9.], dtype=float32)\n",
    "\n",
    "\n",
    "@jax.jit\n",
    "def f(tree: Tree, x: jax.Array):\n",
    "    return jnp.sum(tree(x))\n",
    "\n",
    "\n",
    "print(f(tree, 1.0))\n",
    "print(jax.grad(f)(tree, 1.0))"
   ]
  },
  {
   "cell_type": "markdown",
   "metadata": {},
   "source": [
    "## [2] Masked field\n",
    "\n",
    "`sepes` provide a simple wrapper to *mask* data. Masking here means that the data yields no leaves when flattened. This is useful in some frameworks like `jax` to hide a certain values from being seen by the transformation."
   ]
  },
  {
   "cell_type": "markdown",
   "metadata": {},
   "source": [
    "**Flattening a masked value**"
   ]
  },
  {
   "cell_type": "code",
   "execution_count": 3,
   "metadata": {},
   "outputs": [
    {
     "name": "stdout",
     "output_type": "stream",
     "text": [
      "[1, #2]\n",
      "[1]\n"
     ]
    }
   ],
   "source": [
    "import sepes as sp\n",
    "import jax\n",
    "\n",
    "tree = [1, sp.tree_mask(2, cond=lambda _: True)]\n",
    "print(tree)\n",
    "print(jax.tree_util.tree_leaves(tree))  # note that 2 is removed from the leaves"
   ]
  },
  {
   "cell_type": "markdown",
   "metadata": {},
   "source": [
    "**Using masking with `jax` transformations**\n",
    "\n",
    "The next example demonstrates how to use masking to work with data types that are not supported by `jax`."
   ]
  },
  {
   "cell_type": "code",
   "execution_count": 4,
   "metadata": {},
   "outputs": [],
   "source": [
    "import sepes as sp\n",
    "import jax\n",
    "\n",
    "\n",
    "def mask_field(**kwargs):\n",
    "    return sp.field(\n",
    "        # un mask when the value is accessed\n",
    "        on_getattr=[lambda x: sp.tree_unmask(x, cond=lambda node: True)],\n",
    "        # mask when the value is set\n",
    "        on_setattr=[lambda x: sp.tree_mask(x, cond=lambda node: True)],\n",
    "        **kwargs,\n",
    "    )"
   ]
  },
  {
   "cell_type": "markdown",
   "metadata": {},
   "source": [
    "Now we can use this custom `field` to mark some class attributes as masked. Masking a value will effectively hide it from `jax` transformations."
   ]
  },
  {
   "cell_type": "markdown",
   "metadata": {},
   "source": [
    "**Without masking the `str` type**"
   ]
  },
  {
   "cell_type": "code",
   "execution_count": 5,
   "metadata": {},
   "outputs": [
    {
     "ename": "TypeError",
     "evalue": "Argument 'training' of type <class 'str'> is not a valid JAX type.",
     "output_type": "error",
     "traceback": [
      "\u001b[0;31m---------------------------------------------------------------------------\u001b[0m",
      "\u001b[0;31mTypeError\u001b[0m                                 Traceback (most recent call last)",
      "Cell \u001b[0;32mIn[5], line 18\u001b[0m\n\u001b[1;32m     14\u001b[0m     \u001b[38;5;28;01mreturn\u001b[39;00m tree(\u001b[38;5;28minput\u001b[39m)\n\u001b[1;32m     17\u001b[0m tree \u001b[38;5;241m=\u001b[39m Tree(training_mode\u001b[38;5;241m=\u001b[39m\u001b[38;5;124m\"\u001b[39m\u001b[38;5;124mtraining\u001b[39m\u001b[38;5;124m\"\u001b[39m, alpha\u001b[38;5;241m=\u001b[39m\u001b[38;5;241m2.0\u001b[39m)\n\u001b[0;32m---> 18\u001b[0m \u001b[38;5;28mprint\u001b[39m(\u001b[43mloss_func\u001b[49m\u001b[43m(\u001b[49m\u001b[43mtree\u001b[49m\u001b[43m,\u001b[49m\u001b[43m \u001b[49m\u001b[38;5;241;43m2.0\u001b[39;49m\u001b[43m)\u001b[49m)  \u001b[38;5;66;03m# <- will throw error with jax transformations.\u001b[39;00m\n",
      "    \u001b[0;31m[... skipping hidden 5 frame]\u001b[0m\n",
      "File \u001b[0;32m/opt/homebrew/Caskroom/miniconda/base/envs/dev-jax/lib/python3.12/site-packages/jax/_src/dispatch.py:281\u001b[0m, in \u001b[0;36mcheck_arg\u001b[0;34m(arg)\u001b[0m\n\u001b[1;32m    279\u001b[0m \u001b[38;5;28;01mdef\u001b[39;00m \u001b[38;5;21mcheck_arg\u001b[39m(arg: Any):\n\u001b[1;32m    280\u001b[0m   \u001b[38;5;28;01mif\u001b[39;00m \u001b[38;5;129;01mnot\u001b[39;00m (\u001b[38;5;28misinstance\u001b[39m(arg, core\u001b[38;5;241m.\u001b[39mTracer) \u001b[38;5;129;01mor\u001b[39;00m core\u001b[38;5;241m.\u001b[39mvalid_jaxtype(arg)):\n\u001b[0;32m--> 281\u001b[0m     \u001b[38;5;28;01mraise\u001b[39;00m \u001b[38;5;167;01mTypeError\u001b[39;00m(\u001b[38;5;124mf\u001b[39m\u001b[38;5;124m\"\u001b[39m\u001b[38;5;124mArgument \u001b[39m\u001b[38;5;124m'\u001b[39m\u001b[38;5;132;01m{\u001b[39;00marg\u001b[38;5;132;01m}\u001b[39;00m\u001b[38;5;124m'\u001b[39m\u001b[38;5;124m of type \u001b[39m\u001b[38;5;132;01m{\u001b[39;00m\u001b[38;5;28mtype\u001b[39m(arg)\u001b[38;5;132;01m}\u001b[39;00m\u001b[38;5;124m is not a valid \u001b[39m\u001b[38;5;124m\"\u001b[39m\n\u001b[1;32m    282\u001b[0m                     \u001b[38;5;124m\"\u001b[39m\u001b[38;5;124mJAX type.\u001b[39m\u001b[38;5;124m\"\u001b[39m)\n",
      "\u001b[0;31mTypeError\u001b[0m: Argument 'training' of type <class 'str'> is not a valid JAX type."
     ]
    }
   ],
   "source": [
    "@sp.autoinit\n",
    "class Tree(sp.TreeClass):\n",
    "    training_mode: str  # <- will throw error with jax transformations.\n",
    "    alpha: float\n",
    "\n",
    "    def __call__(self, x):\n",
    "        if self.training_mode == \"training\":\n",
    "            return x**self.alpha\n",
    "        return x\n",
    "\n",
    "\n",
    "@jax.grad\n",
    "def loss_func(tree, input):\n",
    "    return tree(input)\n",
    "\n",
    "\n",
    "tree = Tree(training_mode=\"training\", alpha=2.0)\n",
    "print(loss_func(tree, 2.0))  # <- will throw error with jax transformations."
   ]
  },
  {
   "cell_type": "markdown",
   "metadata": {},
   "source": [
    "The error resulted because `jax` recognize numerical values only. The next example demonstrates how to modify the class to mask the `str` type."
   ]
  },
  {
   "cell_type": "code",
   "execution_count": null,
   "metadata": {},
   "outputs": [],
   "source": [
    "@sp.autoinit\n",
    "class Tree(sp.TreeClass):\n",
    "    training_mode: str = mask_field()  # hide the field from jax transformations\n",
    "    alpha: float\n",
    "\n",
    "    def __call__(self, x):\n",
    "        if self.training_mode == \"training\":\n",
    "            return x**self.alpha\n",
    "        return x\n",
    "\n",
    "\n",
    "tree = Tree(training_mode=\"training\", alpha=2.0)\n",
    "print(loss_func(tree, 2.0))"
   ]
  },
  {
   "cell_type": "markdown",
   "metadata": {},
   "source": [
    "## [3] Validator fields"
   ]
  },
  {
   "cell_type": "markdown",
   "metadata": {},
   "source": [
    "The following provides an example of how to use `sepes.field` to validate the input data. The `validator` function is used to check if the input data is valid. If the data is invalid, an exception is raised. This example is inspired by the [python offical docs example](https://docs.python.org/3/howto/descriptor.html#validator-class)"
   ]
  },
  {
   "cell_type": "markdown",
   "metadata": {},
   "source": [
    "### Range+Type validator"
   ]
  },
  {
   "cell_type": "code",
   "execution_count": null,
   "metadata": {},
   "outputs": [],
   "source": [
    "import jax\n",
    "import sepes as sp\n",
    "\n",
    "\n",
    "# you can use any function\n",
    "@sp.autoinit\n",
    "class Range(sp.TreeClass):\n",
    "    min: int | float = -float(\"inf\")\n",
    "    max: int | float = float(\"inf\")\n",
    "\n",
    "    def __call__(self, x):\n",
    "        if not (self.min <= x <= self.max):\n",
    "            raise ValueError(f\"{x} not in range [{self.min}, {self.max}]\")\n",
    "        return x\n",
    "\n",
    "\n",
    "@sp.autoinit\n",
    "class IsInstance(sp.TreeClass):\n",
    "    klass: type | tuple[type, ...]\n",
    "\n",
    "    def __call__(self, x):\n",
    "        if not isinstance(x, self.klass):\n",
    "            raise TypeError(f\"{x} not an instance of {self.klass}\")\n",
    "        return x\n",
    "\n",
    "\n",
    "@sp.autoinit\n",
    "class Foo(sp.TreeClass):\n",
    "    # allow in_dim to be an integer between [1,100]\n",
    "    in_dim: int = sp.field(on_setattr=[IsInstance(int), Range(1, 100)])\n",
    "\n",
    "\n",
    "tree = Foo(1)\n",
    "# no error\n",
    "\n",
    "try:\n",
    "    tree = Foo(0)\n",
    "except ValueError as e:\n",
    "    print(e)\n",
    "\n",
    "try:\n",
    "    tree = Foo(1.0)\n",
    "except TypeError as e:\n",
    "    print(e)"
   ]
  },
  {
   "cell_type": "markdown",
   "metadata": {},
   "source": [
    "### Array validator"
   ]
  },
  {
   "cell_type": "code",
   "execution_count": null,
   "metadata": {},
   "outputs": [],
   "source": [
    "import sepes as sp\n",
    "from typing import Any\n",
    "import jax\n",
    "import jax.numpy as jnp\n",
    "\n",
    "\n",
    "class ArrayValidator(sp.TreeClass):\n",
    "    \"\"\"Validate shape and dtype of input array.\n",
    "\n",
    "    Args:\n",
    "        shape: Expected shape of array. available values are int, None, ...\n",
    "            use int for fixed size, None for any size, and ... for any number\n",
    "            of dimensions. for example (..., 1) allows any number of dimensions\n",
    "            with the last dimension being 1. (1, ..., 1) allows any number of\n",
    "            dimensions with the first and last dimensions being 1.\n",
    "        dtype: Expected dtype of array.\n",
    "\n",
    "    Example:\n",
    "        >>> x = jnp.ones((5, 5))\n",
    "        >>> # any number of dimensions with last dim=5\n",
    "        >>> shape = (..., 5)\n",
    "        >>> dtype = jnp.float32\n",
    "        >>> validator = ArrayValidator(shape, dtype)\n",
    "        >>> validator(x)  # no error\n",
    "\n",
    "        >>> # must be 2 dimensions with first dim unconstrained and last dim=5\n",
    "        >>> shape = (None, 5)\n",
    "        >>> validator = ArrayValidator(shape, dtype)\n",
    "        >>> validator(x)  # no error\n",
    "    \"\"\"\n",
    "\n",
    "    def __init__(self, shape, dtype):\n",
    "        if shape.count(...) > 1:\n",
    "            raise ValueError(\"Only one ellipsis allowed\")\n",
    "\n",
    "        for si in shape:\n",
    "            if not isinstance(si, (int, type(...), type(None))):\n",
    "                raise TypeError(f\"Expected int or ..., got {si}\")\n",
    "\n",
    "        self.shape = shape\n",
    "        self.dtype = dtype\n",
    "\n",
    "    def __call__(self, x):\n",
    "        if not (hasattr(x, \"shape\") and hasattr(x, \"dtype\")):\n",
    "            raise TypeError(f\"Expected array with shape {self.shape}, got {x}\")\n",
    "\n",
    "        shape = list(self.shape)\n",
    "        array_shape = list(x.shape)\n",
    "        array_dtype = x.dtype\n",
    "\n",
    "        if self.shape and array_dtype != self.dtype:\n",
    "            raise TypeError(f\"Dtype mismatch, {array_dtype=} != {self.dtype=}\")\n",
    "\n",
    "        if ... in shape:\n",
    "            index = shape.index(...)\n",
    "            shape = (\n",
    "                shape[:index]\n",
    "                + [None] * (len(array_shape) - len(shape) + 1)\n",
    "                + shape[index + 1 :]\n",
    "            )\n",
    "\n",
    "        if len(shape) != len(array_shape):\n",
    "            raise ValueError(f\"{len(shape)=} != {len(array_shape)=}\")\n",
    "\n",
    "        for i, (li, ri) in enumerate(zip(shape, array_shape)):\n",
    "            if li is None:\n",
    "                continue\n",
    "            if li != ri:\n",
    "                raise ValueError(f\"Size mismatch, {li} != {ri} at dimension {i}\")\n",
    "        return x\n",
    "\n",
    "\n",
    "# any number of dimensions with firt dim=3 and last dim=6\n",
    "shape = (3, ..., 6)\n",
    "# dtype must be float32\n",
    "dtype = jnp.float32\n",
    "\n",
    "validator = ArrayValidator(shape=shape, dtype=dtype)\n",
    "\n",
    "# convert to half precision from float32\n",
    "converter = lambda x: x.astype(jnp.float16)\n",
    "\n",
    "\n",
    "@sp.autoinit\n",
    "class Tree(sp.TreeClass):\n",
    "    array: jax.Array = sp.field(on_setattr=[validator, converter])\n",
    "\n",
    "\n",
    "x = jnp.ones([3, 1, 2, 6])\n",
    "tree = Tree(array=x)\n",
    "\n",
    "\n",
    "try:\n",
    "    y = jnp.ones([1, 1, 2, 3])\n",
    "    tree = Tree(array=y)\n",
    "except ValueError as e:\n",
    "    print(e, \"\\n\")\n",
    "    # On applying ArrayValidator(shape=(3, Ellipsis, 6), dtype=<class 'jax.numpy.float32'>) for field=`array`:\n",
    "    # Dtype mismatch, array_dtype=dtype('float16') != self.dtype=<class 'jax.numpy.float32'>\n",
    "\n",
    "try:\n",
    "    z = x.astype(jnp.float16)\n",
    "    tree = Tree(array=z)\n",
    "except TypeError as e:\n",
    "    print(e)\n",
    "    # On applying ArrayValidator(shape=(3, Ellipsis, 6), dtype=<class 'jax.numpy.float32'>) for field=`array`:\n",
    "    # Size mismatch, 3 != 1 at dimension 0"
   ]
  },
  {
   "cell_type": "markdown",
   "metadata": {},
   "source": [
    "## [4] Parameterization field\n",
    "\n",
    "In this example, field value is [parameterized](https://pytorch.org/tutorials/intermediate/parametrizations.html) using `on_getattr`,\n"
   ]
  },
  {
   "cell_type": "code",
   "execution_count": null,
   "metadata": {},
   "outputs": [],
   "source": [
    "import sepes as sp\n",
    "import jax.numpy as jnp\n",
    "\n",
    "\n",
    "def symmetric(array: jax.Array) -> jax.Array:\n",
    "    triangle = jnp.triu(array)  # upper triangle\n",
    "    return triangle + triangle.transpose(-1, -2)\n",
    "\n",
    "\n",
    "@sp.autoinit\n",
    "class Tree(sp.TreeClass):\n",
    "    symmetric_matrix: jax.Array = sp.field(on_getattr=[symmetric])\n",
    "\n",
    "\n",
    "tree = Tree(symmetric_matrix=jnp.arange(9).reshape(3, 3))\n",
    "print(tree.symmetric_matrix)"
   ]
  }
 ],
 "metadata": {
  "kernelspec": {
   "display_name": "dev-jax",
   "language": "python",
   "name": "python3"
  },
  "language_info": {
   "codemirror_mode": {
    "name": "ipython",
    "version": 3
   },
   "file_extension": ".py",
   "mimetype": "text/x-python",
   "name": "python",
   "nbconvert_exporter": "python",
   "pygments_lexer": "ipython3",
   "version": "3.12.2"
  },
  "orig_nbformat": 4
 },
 "nbformat": 4,
 "nbformat_minor": 2
}
